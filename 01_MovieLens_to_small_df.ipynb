{
  "nbformat": 4,
  "nbformat_minor": 0,
  "metadata": {
    "colab": {
      "name": "01_MovieLens_to_small_df.ipynb",
      "provenance": [],
      "collapsed_sections": [],
      "machine_shape": "hm",
      "authorship_tag": "ABX9TyNZUOl7UEqVe7oJM0/iP5tU",
      "include_colab_link": true
    },
    "kernelspec": {
      "name": "python3",
      "display_name": "Python 3"
    },
    "accelerator": "TPU"
  },
  "cells": [
    {
      "cell_type": "markdown",
      "metadata": {
        "id": "view-in-github",
        "colab_type": "text"
      },
      "source": [
        "<a href=\"https://colab.research.google.com/github/DianaMoyano1/RecommenderSystems_Examples/blob/main/01_MovieLens_to_small_df.ipynb\" target=\"_parent\"><img src=\"https://colab.research.google.com/assets/colab-badge.svg\" alt=\"Open In Colab\"/></a>"
      ]
    },
    {
      "cell_type": "code",
      "metadata": {
        "id": "ku6a1kbr37yZ"
      },
      "source": [
        "import numpy as np\n",
        "import pandas as pd\n",
        "import matplotlib.pyplot as plt"
      ],
      "execution_count": null,
      "outputs": []
    },
    {
      "cell_type": "code",
      "metadata": {
        "colab": {
          "base_uri": "https://localhost:8080/"
        },
        "id": "bzp3PMZI4UrR",
        "outputId": "bd941520-d1cb-4b1d-b050-2735557773af"
      },
      "source": [
        "from google.colab import drive\n",
        "drive.mount('drive')\n",
        "%cd 'drive/My Drive/Courses/Udemy/Recommender Systems/Colab Examples'"
      ],
      "execution_count": null,
      "outputs": [
        {
          "output_type": "stream",
          "text": [
            "Drive already mounted at drive; to attempt to forcibly remount, call drive.mount(\"drive\", force_remount=True).\n",
            "/content/drive/My Drive/Courses/Udemy/Recommender Systems/Colab Examples\n"
          ],
          "name": "stdout"
        }
      ]
    },
    {
      "cell_type": "code",
      "metadata": {
        "id": "on6lyJCT4Vgu"
      },
      "source": [
        "df= pd.read_csv(\"rating.csv\")\n",
        "df=df.drop(['timestamp'],axis=1)"
      ],
      "execution_count": null,
      "outputs": []
    },
    {
      "cell_type": "code",
      "metadata": {
        "colab": {
          "base_uri": "https://localhost:8080/",
          "height": 204
        },
        "id": "1_idnb2G4Vu-",
        "outputId": "258f1379-4d12-4bfd-f99c-d7d247567ec3"
      },
      "source": [
        "df.head()"
      ],
      "execution_count": null,
      "outputs": [
        {
          "output_type": "execute_result",
          "data": {
            "text/html": [
              "<div>\n",
              "<style scoped>\n",
              "    .dataframe tbody tr th:only-of-type {\n",
              "        vertical-align: middle;\n",
              "    }\n",
              "\n",
              "    .dataframe tbody tr th {\n",
              "        vertical-align: top;\n",
              "    }\n",
              "\n",
              "    .dataframe thead th {\n",
              "        text-align: right;\n",
              "    }\n",
              "</style>\n",
              "<table border=\"1\" class=\"dataframe\">\n",
              "  <thead>\n",
              "    <tr style=\"text-align: right;\">\n",
              "      <th></th>\n",
              "      <th>userId</th>\n",
              "      <th>movieId</th>\n",
              "      <th>rating</th>\n",
              "    </tr>\n",
              "  </thead>\n",
              "  <tbody>\n",
              "    <tr>\n",
              "      <th>0</th>\n",
              "      <td>1</td>\n",
              "      <td>2</td>\n",
              "      <td>3.5</td>\n",
              "    </tr>\n",
              "    <tr>\n",
              "      <th>1</th>\n",
              "      <td>1</td>\n",
              "      <td>29</td>\n",
              "      <td>3.5</td>\n",
              "    </tr>\n",
              "    <tr>\n",
              "      <th>2</th>\n",
              "      <td>1</td>\n",
              "      <td>32</td>\n",
              "      <td>3.5</td>\n",
              "    </tr>\n",
              "    <tr>\n",
              "      <th>3</th>\n",
              "      <td>1</td>\n",
              "      <td>47</td>\n",
              "      <td>3.5</td>\n",
              "    </tr>\n",
              "    <tr>\n",
              "      <th>4</th>\n",
              "      <td>1</td>\n",
              "      <td>50</td>\n",
              "      <td>3.5</td>\n",
              "    </tr>\n",
              "  </tbody>\n",
              "</table>\n",
              "</div>"
            ],
            "text/plain": [
              "   userId  movieId  rating\n",
              "0       1        2     3.5\n",
              "1       1       29     3.5\n",
              "2       1       32     3.5\n",
              "3       1       47     3.5\n",
              "4       1       50     3.5"
            ]
          },
          "metadata": {
            "tags": []
          },
          "execution_count": 4
        }
      ]
    },
    {
      "cell_type": "markdown",
      "metadata": {
        "id": "SauEwEc7R031"
      },
      "source": [
        "# First Preprocessing"
      ]
    },
    {
      "cell_type": "markdown",
      "metadata": {
        "id": "y6rLFSL7BhDh"
      },
      "source": [
        "### User ID \n",
        "Count from 0 instead of 1 as we will index to a Numpy array. Substract 1 from each ID"
      ]
    },
    {
      "cell_type": "code",
      "metadata": {
        "id": "h_ToYUIS4WB_"
      },
      "source": [
        "df.userId = df.userId-1"
      ],
      "execution_count": null,
      "outputs": []
    },
    {
      "cell_type": "code",
      "metadata": {
        "colab": {
          "base_uri": "https://localhost:8080/",
          "height": 204
        },
        "id": "SMEwb9cICYyy",
        "outputId": "39913cea-556e-4b37-d52b-ada7cf829aec"
      },
      "source": [
        "df.head()"
      ],
      "execution_count": null,
      "outputs": [
        {
          "output_type": "execute_result",
          "data": {
            "text/html": [
              "<div>\n",
              "<style scoped>\n",
              "    .dataframe tbody tr th:only-of-type {\n",
              "        vertical-align: middle;\n",
              "    }\n",
              "\n",
              "    .dataframe tbody tr th {\n",
              "        vertical-align: top;\n",
              "    }\n",
              "\n",
              "    .dataframe thead th {\n",
              "        text-align: right;\n",
              "    }\n",
              "</style>\n",
              "<table border=\"1\" class=\"dataframe\">\n",
              "  <thead>\n",
              "    <tr style=\"text-align: right;\">\n",
              "      <th></th>\n",
              "      <th>userId</th>\n",
              "      <th>movieId</th>\n",
              "      <th>rating</th>\n",
              "    </tr>\n",
              "  </thead>\n",
              "  <tbody>\n",
              "    <tr>\n",
              "      <th>0</th>\n",
              "      <td>0</td>\n",
              "      <td>2</td>\n",
              "      <td>3.5</td>\n",
              "    </tr>\n",
              "    <tr>\n",
              "      <th>1</th>\n",
              "      <td>0</td>\n",
              "      <td>29</td>\n",
              "      <td>3.5</td>\n",
              "    </tr>\n",
              "    <tr>\n",
              "      <th>2</th>\n",
              "      <td>0</td>\n",
              "      <td>32</td>\n",
              "      <td>3.5</td>\n",
              "    </tr>\n",
              "    <tr>\n",
              "      <th>3</th>\n",
              "      <td>0</td>\n",
              "      <td>47</td>\n",
              "      <td>3.5</td>\n",
              "    </tr>\n",
              "    <tr>\n",
              "      <th>4</th>\n",
              "      <td>0</td>\n",
              "      <td>50</td>\n",
              "      <td>3.5</td>\n",
              "    </tr>\n",
              "  </tbody>\n",
              "</table>\n",
              "</div>"
            ],
            "text/plain": [
              "   userId  movieId  rating\n",
              "0       0        2     3.5\n",
              "1       0       29     3.5\n",
              "2       0       32     3.5\n",
              "3       0       47     3.5\n",
              "4       0       50     3.5"
            ]
          },
          "metadata": {
            "tags": []
          },
          "execution_count": 10
        }
      ]
    },
    {
      "cell_type": "markdown",
      "metadata": {
        "id": "yTIJzwEFB87D"
      },
      "source": [
        "### Movie IDs\n",
        "There are only 20K movies. These are not sequential and there are a lot of missing items\n",
        "Create a new mapping from 0 to ~20K"
      ]
    },
    {
      "cell_type": "code",
      "metadata": {
        "id": "Q_RSO__Z4WHY"
      },
      "source": [
        "unique_movie_ids=set(df.movieId.values) #Set converts to sequence of iterable elements with dintinct elements"
      ],
      "execution_count": null,
      "outputs": []
    },
    {
      "cell_type": "markdown",
      "metadata": {
        "id": "crwvXHBwJeQG"
      },
      "source": [
        "Below code loops through each unique movie without encountering again.\n",
        "Movies ID go from 1 to ~100K, but THEY ARE NOT SEQUENTIAL. We need to use the entire array space, so we assign new ids to the old ones.\n",
        "User IDs do not have this issue because they covered all the numbers (no space in between)\n",
        "The dictionary will map old IDs with new IDs. \n",
        "The key of our dictionary is the old movie ID and the\n",
        "value of the dictionary is the count. We only need the former.\n",
        "count += increments the count for the next iteration"
      ]
    },
    {
      "cell_type": "code",
      "metadata": {
        "id": "M7lA4w8E4WLd"
      },
      "source": [
        "#We map a dictonary from old id to new id\n",
        "#Data mapping is the process of matching fields from one database to another\n",
        "#First ID being 0\n",
        "movie2idx={}\n",
        "count=0\n",
        "for movie_id in unique_movie_ids:\n",
        "  movie2idx[movie_id]=count\n",
        "  count+=1 #We look through each unique ID\n"
      ],
      "execution_count": null,
      "outputs": []
    },
    {
      "cell_type": "code",
      "metadata": {
        "id": "1uVZgk-l4WRL"
      },
      "source": [
        "#Add them to the dataframe\n",
        "df['movie_idx']=df.apply(lambda row: movie2idx[row.movieId], axis=1)"
      ],
      "execution_count": null,
      "outputs": []
    },
    {
      "cell_type": "code",
      "metadata": {
        "id": "FHWdqiLx4WWJ"
      },
      "source": [
        "df.to_csv('edited_rating.csv')"
      ],
      "execution_count": null,
      "outputs": []
    },
    {
      "cell_type": "markdown",
      "metadata": {
        "id": "Yku7B6Y0RwFU"
      },
      "source": [
        "# Shrinking"
      ]
    },
    {
      "cell_type": "markdown",
      "metadata": {
        "id": "UeSCkWEwR5vA"
      },
      "source": [
        "The array will be too large (over 100K users and movies). We could select a subset of users (those who rate the most) and a subset of movies (highest number of ratings). "
      ]
    },
    {
      "cell_type": "code",
      "metadata": {
        "id": "nH328Pky4Wfl"
      },
      "source": [
        "import pickle\n",
        "from collections import Counter"
      ],
      "execution_count": null,
      "outputs": []
    },
    {
      "cell_type": "code",
      "metadata": {
        "colab": {
          "base_uri": "https://localhost:8080/"
        },
        "id": "bXVMMxUA4WkM",
        "outputId": "fb79f7c9-659b-432f-9780-ae03496b6f9e"
      },
      "source": [
        "print(\"original dataframe size:\", len(df))"
      ],
      "execution_count": null,
      "outputs": [
        {
          "output_type": "stream",
          "text": [
            "original dataframe size: 20000263\n"
          ],
          "name": "stdout"
        }
      ]
    },
    {
      "cell_type": "code",
      "metadata": {
        "id": "pPk7vD-64WrA"
      },
      "source": [
        "N = df.userId.max() + 1 #Number of users\n",
        "M = df.movie_idx.max() + 1 #Number of movies"
      ],
      "execution_count": null,
      "outputs": []
    },
    {
      "cell_type": "code",
      "metadata": {
        "id": "GPCQ-FKn4WzB"
      },
      "source": [
        "#Counts how many times a user/movie appears\n",
        "user_ids_count=Counter(df.userId)\n",
        "movie_ids_count=Counter(df.movie_idx)"
      ],
      "execution_count": null,
      "outputs": []
    },
    {
      "cell_type": "code",
      "metadata": {
        "id": "uP69Rlxc4W1E"
      },
      "source": [
        "#Number of user we would like to keep\n",
        "n = 10000\n",
        "m = 2000"
      ],
      "execution_count": null,
      "outputs": []
    },
    {
      "cell_type": "code",
      "metadata": {
        "id": "zGcjN4Zw4W7u"
      },
      "source": [
        "#Select the most common user and movie ids\n",
        "#These are in a tuple. Key is the id and second value is the count \n",
        "#We are only looking for the id itself\n",
        "user_ids= [u for u, c in user_ids_count.most_common(n)]\n",
        "movie_ids= [m for m, c in movie_ids_count.most_common(m)]\n",
        "\n"
      ],
      "execution_count": null,
      "outputs": []
    },
    {
      "cell_type": "code",
      "metadata": {
        "id": "4WV5xvpUW_Ww"
      },
      "source": [
        "#Make a copy, otherwise ids won't be overwritten\n",
        "df_small=df[df.userId.isin(user_ids) & df.movie_idx.isin(movie_ids)].copy()"
      ],
      "execution_count": null,
      "outputs": []
    },
    {
      "cell_type": "code",
      "metadata": {
        "colab": {
          "base_uri": "https://localhost:8080/"
        },
        "id": "dQEbbmI2W_hp",
        "outputId": "ec08f85d-95f8-4a03-8a1a-c31eafb840d0"
      },
      "source": [
        "#Remake user ids and movie ids since they're no longer sequential\n",
        "new_user_id_map={}\n",
        "i=0\n",
        "for old in user_ids:\n",
        "  new_user_id_map[old] = i\n",
        "  i+=1\n",
        "print(\"i:\",i)\n"
      ],
      "execution_count": null,
      "outputs": [
        {
          "output_type": "stream",
          "text": [
            "i: 10000\n"
          ],
          "name": "stdout"
        }
      ]
    },
    {
      "cell_type": "code",
      "metadata": {
        "colab": {
          "base_uri": "https://localhost:8080/"
        },
        "id": "FIw-89dEW_mh",
        "outputId": "a7c8fcfd-63f6-415a-dce4-fc6fc9413cfe"
      },
      "source": [
        "new_movie_id_map={}\n",
        "j=0\n",
        "for old in movie_ids:\n",
        "  new_movie_id_map[old] = j\n",
        "  j+=1\n",
        "print(\"j:\",j)"
      ],
      "execution_count": null,
      "outputs": [
        {
          "output_type": "stream",
          "text": [
            "j: 2000\n"
          ],
          "name": "stdout"
        }
      ]
    },
    {
      "cell_type": "markdown",
      "metadata": {
        "id": "CSX1j4yGaJDq"
      },
      "source": [
        "Setting the new Ids"
      ]
    },
    {
      "cell_type": "code",
      "metadata": {
        "id": "f7wyZNrEW_q0"
      },
      "source": [
        "df_small.loc[:,'userId'] = df_small.apply(lambda row: new_user_id_map[row.userId], axis=1)\n",
        "df_small.loc[:,'movie_idx'] = df_small.apply(lambda row: new_movie_id_map[row.movie_idx], axis=1)"
      ],
      "execution_count": null,
      "outputs": []
    },
    {
      "cell_type": "code",
      "metadata": {
        "colab": {
          "base_uri": "https://localhost:8080/"
        },
        "id": "mNytE6EnW_vq",
        "outputId": "95d3fff2-ff73-46b5-8103-dc01b1f82b53"
      },
      "source": [
        "print(\"max user id:\", df_small.userId.max())\n",
        "print(\"max movie id:\", df_small.movie_idx.max())"
      ],
      "execution_count": null,
      "outputs": [
        {
          "output_type": "stream",
          "text": [
            "max user id: 9999\n",
            "max movie id: 1999\n"
          ],
          "name": "stdout"
        }
      ]
    },
    {
      "cell_type": "code",
      "metadata": {
        "id": "InDnCEcbW_0U"
      },
      "source": [
        "df_small.to_csv('very_small_rating.csv')"
      ],
      "execution_count": null,
      "outputs": []
    }
  ]
}