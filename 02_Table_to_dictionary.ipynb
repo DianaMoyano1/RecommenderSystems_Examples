{
  "nbformat": 4,
  "nbformat_minor": 0,
  "metadata": {
    "colab": {
      "name": "02_Table_to_dictionary.ipynb",
      "provenance": [],
      "collapsed_sections": [],
      "machine_shape": "hm",
      "authorship_tag": "ABX9TyMYgVNvJiP1s4NI2C4optgS",
      "include_colab_link": true
    },
    "kernelspec": {
      "name": "python3",
      "display_name": "Python 3"
    },
    "accelerator": "GPU"
  },
  "cells": [
    {
      "cell_type": "markdown",
      "metadata": {
        "id": "view-in-github",
        "colab_type": "text"
      },
      "source": [
        "<a href=\"https://colab.research.google.com/github/DianaMoyano1/RecommenderSystems_Examples/blob/main/02_Table_to_dictionary.ipynb\" target=\"_parent\"><img src=\"https://colab.research.google.com/assets/colab-badge.svg\" alt=\"Open In Colab\"/></a>"
      ]
    },
    {
      "cell_type": "code",
      "metadata": {
        "id": "R-q2MMTicPW3"
      },
      "source": [
        "import pickle\n",
        "import numpy as np\n",
        "import pandas as pd\n",
        "import os\n",
        "import matplotlib.pyplot as plt\n",
        "from sklearn.utils import shuffle\n",
        "from google.colab import drive\n",
        "drive.mount('drive')\n",
        "%cd 'drive/My Drive/Courses/Udemy/Recommender Systems/Colab Examples'"
      ],
      "execution_count": null,
      "outputs": []
    },
    {
      "cell_type": "code",
      "metadata": {
        "id": "w-19iyb9cRBS"
      },
      "source": [
        "df= pd.read_csv('very_small_rating.csv')"
      ],
      "execution_count": null,
      "outputs": []
    },
    {
      "cell_type": "code",
      "metadata": {
        "colab": {
          "base_uri": "https://localhost:8080/",
          "height": 204
        },
        "id": "xOkX3bsVdxqn",
        "outputId": "d4a50a6e-b00e-46ff-c8b3-ba527c550c70"
      },
      "source": [
        "df.head()"
      ],
      "execution_count": null,
      "outputs": [
        {
          "output_type": "execute_result",
          "data": {
            "text/html": [
              "<div>\n",
              "<style scoped>\n",
              "    .dataframe tbody tr th:only-of-type {\n",
              "        vertical-align: middle;\n",
              "    }\n",
              "\n",
              "    .dataframe tbody tr th {\n",
              "        vertical-align: top;\n",
              "    }\n",
              "\n",
              "    .dataframe thead th {\n",
              "        text-align: right;\n",
              "    }\n",
              "</style>\n",
              "<table border=\"1\" class=\"dataframe\">\n",
              "  <thead>\n",
              "    <tr style=\"text-align: right;\">\n",
              "      <th></th>\n",
              "      <th>Unnamed: 0</th>\n",
              "      <th>userId</th>\n",
              "      <th>movieId</th>\n",
              "      <th>rating</th>\n",
              "      <th>movie_idx</th>\n",
              "    </tr>\n",
              "  </thead>\n",
              "  <tbody>\n",
              "    <tr>\n",
              "      <th>0</th>\n",
              "      <td>960</td>\n",
              "      <td>7307</td>\n",
              "      <td>1</td>\n",
              "      <td>4.5</td>\n",
              "      <td>10</td>\n",
              "    </tr>\n",
              "    <tr>\n",
              "      <th>1</th>\n",
              "      <td>961</td>\n",
              "      <td>7307</td>\n",
              "      <td>10</td>\n",
              "      <td>2.5</td>\n",
              "      <td>68</td>\n",
              "    </tr>\n",
              "    <tr>\n",
              "      <th>2</th>\n",
              "      <td>962</td>\n",
              "      <td>7307</td>\n",
              "      <td>19</td>\n",
              "      <td>3.5</td>\n",
              "      <td>143</td>\n",
              "    </tr>\n",
              "    <tr>\n",
              "      <th>3</th>\n",
              "      <td>963</td>\n",
              "      <td>7307</td>\n",
              "      <td>32</td>\n",
              "      <td>5.0</td>\n",
              "      <td>19</td>\n",
              "    </tr>\n",
              "    <tr>\n",
              "      <th>4</th>\n",
              "      <td>964</td>\n",
              "      <td>7307</td>\n",
              "      <td>39</td>\n",
              "      <td>4.5</td>\n",
              "      <td>85</td>\n",
              "    </tr>\n",
              "  </tbody>\n",
              "</table>\n",
              "</div>"
            ],
            "text/plain": [
              "   Unnamed: 0  userId  movieId  rating  movie_idx\n",
              "0         960    7307        1     4.5         10\n",
              "1         961    7307       10     2.5         68\n",
              "2         962    7307       19     3.5        143\n",
              "3         963    7307       32     5.0         19\n",
              "4         964    7307       39     4.5         85"
            ]
          },
          "metadata": {
            "tags": []
          },
          "execution_count": 4
        }
      ]
    },
    {
      "cell_type": "code",
      "metadata": {
        "id": "C7r73XTncRRA"
      },
      "source": [
        "N= df.userId.max() + 1 # number of users\n",
        "M = df.movie_idx.max() + 1 # number of movies"
      ],
      "execution_count": null,
      "outputs": []
    },
    {
      "cell_type": "code",
      "metadata": {
        "id": "xEhm8WYbcRWq"
      },
      "source": [
        "#split into train and test\n",
        "df = shuffle(df)\n",
        "cutoff = int(0.8*len(df))\n",
        "df_train  =df.iloc[:cutoff]\n",
        "df_test = df.iloc[cutoff:]"
      ],
      "execution_count": null,
      "outputs": []
    },
    {
      "cell_type": "code",
      "metadata": {
        "colab": {
          "base_uri": "https://localhost:8080/",
          "height": 204
        },
        "id": "ksxconG4cRZf",
        "outputId": "9232732c-585c-4387-8fdc-5f71540c6f0f"
      },
      "source": [
        "df_test.head()"
      ],
      "execution_count": null,
      "outputs": [
        {
          "output_type": "execute_result",
          "data": {
            "text/html": [
              "<div>\n",
              "<style scoped>\n",
              "    .dataframe tbody tr th:only-of-type {\n",
              "        vertical-align: middle;\n",
              "    }\n",
              "\n",
              "    .dataframe tbody tr th {\n",
              "        vertical-align: top;\n",
              "    }\n",
              "\n",
              "    .dataframe thead th {\n",
              "        text-align: right;\n",
              "    }\n",
              "</style>\n",
              "<table border=\"1\" class=\"dataframe\">\n",
              "  <thead>\n",
              "    <tr style=\"text-align: right;\">\n",
              "      <th></th>\n",
              "      <th>Unnamed: 0</th>\n",
              "      <th>userId</th>\n",
              "      <th>movieId</th>\n",
              "      <th>rating</th>\n",
              "      <th>movie_idx</th>\n",
              "    </tr>\n",
              "  </thead>\n",
              "  <tbody>\n",
              "    <tr>\n",
              "      <th>2698090</th>\n",
              "      <td>10036764</td>\n",
              "      <td>1373</td>\n",
              "      <td>1614</td>\n",
              "      <td>3.5</td>\n",
              "      <td>1109</td>\n",
              "    </tr>\n",
              "    <tr>\n",
              "      <th>1711203</th>\n",
              "      <td>6310961</td>\n",
              "      <td>7422</td>\n",
              "      <td>1080</td>\n",
              "      <td>4.0</td>\n",
              "      <td>150</td>\n",
              "    </tr>\n",
              "    <tr>\n",
              "      <th>1810311</th>\n",
              "      <td>6706897</td>\n",
              "      <td>5134</td>\n",
              "      <td>1517</td>\n",
              "      <td>3.0</td>\n",
              "      <td>128</td>\n",
              "    </tr>\n",
              "    <tr>\n",
              "      <th>949769</th>\n",
              "      <td>3448051</td>\n",
              "      <td>8328</td>\n",
              "      <td>52</td>\n",
              "      <td>2.5</td>\n",
              "      <td>496</td>\n",
              "    </tr>\n",
              "    <tr>\n",
              "      <th>1776905</th>\n",
              "      <td>6554935</td>\n",
              "      <td>4618</td>\n",
              "      <td>2455</td>\n",
              "      <td>4.5</td>\n",
              "      <td>451</td>\n",
              "    </tr>\n",
              "  </tbody>\n",
              "</table>\n",
              "</div>"
            ],
            "text/plain": [
              "         Unnamed: 0  userId  movieId  rating  movie_idx\n",
              "2698090    10036764    1373     1614     3.5       1109\n",
              "1711203     6310961    7422     1080     4.0        150\n",
              "1810311     6706897    5134     1517     3.0        128\n",
              "949769      3448051    8328       52     2.5        496\n",
              "1776905     6554935    4618     2455     4.5        451"
            ]
          },
          "metadata": {
            "tags": []
          },
          "execution_count": 9
        }
      ]
    },
    {
      "cell_type": "markdown",
      "metadata": {
        "id": "bMrWdDm5gYIu"
      },
      "source": [
        "### Create Dictionaries user2movie movie2user & usermovie2rating"
      ]
    },
    {
      "cell_type": "code",
      "metadata": {
        "id": "Yncb6DF3cReA"
      },
      "source": [
        "user2movie={}\n",
        "movie2user={}\n",
        "usermovie2rating={}"
      ],
      "execution_count": null,
      "outputs": []
    },
    {
      "cell_type": "code",
      "metadata": {
        "colab": {
          "base_uri": "https://localhost:8080/"
        },
        "id": "Sxl-9HWHcRis",
        "outputId": "8b88580b-a97c-4af6-f53a-2e2545f51508"
      },
      "source": [
        "#function that accepts a single row of the dataframe and \n",
        "#based on the row it's going to add an entry to each of these dictionaries\n",
        "count=0\n",
        "print(\"Calling: update_user2movie_and_movie2user\")\n",
        "def update_user2movie_and_movie2user(row):\n",
        "  global count\n",
        "  count += 1\n",
        "  #every 100000 steps, I will print the progress so far\n",
        "  if count % 100000 == 0:\n",
        "    print(\"processed:%.3f\" % (float(count)/cutoff))\n",
        "  \n",
        "  i = int(row.userId)\n",
        "  j = int(row.movie_idx)\n",
        "  if i not in user2movie:\n",
        "    user2movie[i]=[j]\n",
        "  else:\n",
        "    user2movie[i].append(j)\n",
        "\n",
        "  if j not in movie2user:\n",
        "    movie2user[j]=[i]\n",
        "  else:\n",
        "    movie2user[j].append(i)\n",
        "  \n",
        "  usermovie2rating[(i,j)] = row.rating\n",
        "\n",
        "df_train.apply(update_user2movie_and_movie2user, axis=1)\n"
      ],
      "execution_count": null,
      "outputs": [
        {
          "output_type": "stream",
          "text": [
            "processed:0.023\n",
            "processed:0.046\n",
            "processed:0.070\n",
            "processed:0.093\n",
            "processed:0.116\n",
            "processed:0.139\n",
            "processed:0.162\n",
            "processed:0.185\n",
            "processed:0.209\n",
            "processed:0.232\n",
            "processed:0.255\n",
            "processed:0.278\n",
            "processed:0.301\n",
            "processed:0.325\n",
            "processed:0.348\n",
            "processed:0.371\n",
            "processed:0.394\n",
            "processed:0.417\n",
            "processed:0.440\n",
            "processed:0.464\n",
            "processed:0.487\n",
            "processed:0.510\n",
            "processed:0.533\n",
            "processed:0.556\n",
            "processed:0.580\n",
            "processed:0.603\n",
            "processed:0.626\n",
            "processed:0.649\n",
            "processed:0.672\n",
            "processed:0.695\n",
            "processed:0.719\n",
            "processed:0.742\n",
            "processed:0.765\n",
            "processed:0.788\n",
            "processed:0.811\n",
            "processed:0.835\n",
            "processed:0.858\n",
            "processed:0.881\n",
            "processed:0.904\n",
            "processed:0.927\n",
            "processed:0.950\n",
            "processed:0.974\n",
            "processed:0.997\n"
          ],
          "name": "stdout"
        },
        {
          "output_type": "execute_result",
          "data": {
            "text/plain": [
              "1356315    None\n",
              "5292506    None\n",
              "2985743    None\n",
              "3064020    None\n",
              "4176678    None\n",
              "           ... \n",
              "5104535    None\n",
              "5070655    None\n",
              "5289459    None\n",
              "2186458    None\n",
              "2610594    None\n",
              "Length: 4313620, dtype: object"
            ]
          },
          "metadata": {
            "tags": []
          },
          "execution_count": 13
        }
      ]
    },
    {
      "cell_type": "code",
      "metadata": {
        "colab": {
          "base_uri": "https://localhost:8080/"
        },
        "id": "AcGfMOd6cRnu",
        "outputId": "a9a0fafe-c101-4d7f-b7f0-b6efcb9633b6"
      },
      "source": [
        "#test ratings dictionary\n",
        "#Similar to previous but we onl populate the usermovie2rating dictionary\n",
        "\n",
        "usermovie2rating_test = {}\n",
        "print(\"Calling: update_usermovie2rating_test\")\n",
        "count = 0\n",
        "def update_usermovie2rating_test(row):\n",
        "  global count\n",
        "  count += 1\n",
        "  if count % 100000 == 0:\n",
        "    print(\"processed: %.3f\" % (float(count)/len(df_test)))\n",
        "\n",
        "  i = int(row.userId)\n",
        "  j = int(row.movie_idx)\n",
        "  usermovie2rating_test[(i,j)] = row.rating\n",
        "df_test.apply(update_usermovie2rating_test, axis=1)"
      ],
      "execution_count": null,
      "outputs": [
        {
          "output_type": "stream",
          "text": [
            "Calling: update_usermovie2rating_test\n",
            "processed: 0.093\n",
            "processed: 0.185\n",
            "processed: 0.278\n",
            "processed: 0.371\n",
            "processed: 0.464\n",
            "processed: 0.556\n",
            "processed: 0.649\n",
            "processed: 0.742\n",
            "processed: 0.835\n",
            "processed: 0.927\n"
          ],
          "name": "stdout"
        },
        {
          "output_type": "execute_result",
          "data": {
            "text/plain": [
              "2698090    None\n",
              "1711203    None\n",
              "1810311    None\n",
              "949769     None\n",
              "1776905    None\n",
              "           ... \n",
              "1140103    None\n",
              "4769063    None\n",
              "4738693    None\n",
              "2118402    None\n",
              "1567538    None\n",
              "Length: 1078405, dtype: object"
            ]
          },
          "metadata": {
            "tags": []
          },
          "execution_count": 14
        }
      ]
    },
    {
      "cell_type": "markdown",
      "metadata": {
        "id": "l-Hnkm7UlS1U"
      },
      "source": [
        "### Save all the dictionaries"
      ]
    },
    {
      "cell_type": "code",
      "metadata": {
        "id": "nsApnb9KcRuD"
      },
      "source": [
        "# note: these are not really JSONs (JSON has string but we are using integers)\n",
        "#We save them as pickle instead (BIN files - binary)\n",
        "with open('user2movie.json', 'wb') as f:\n",
        "  pickle.dump(user2movie, f)\n",
        "\n",
        "with open('movie2user.json', 'wb') as f:\n",
        "  pickle.dump(movie2user, f)\n",
        "\n",
        "with open('usermovie2rating.json', 'wb') as f:\n",
        "  pickle.dump(usermovie2rating, f)\n",
        "\n",
        "with open('usermovie2rating_test.json', 'wb') as f:\n",
        "  pickle.dump(usermovie2rating_test, f)"
      ],
      "execution_count": null,
      "outputs": []
    },
    {
      "cell_type": "code",
      "metadata": {
        "id": "NsG6qgnWcRxK"
      },
      "source": [
        ""
      ],
      "execution_count": null,
      "outputs": []
    }
  ]
}